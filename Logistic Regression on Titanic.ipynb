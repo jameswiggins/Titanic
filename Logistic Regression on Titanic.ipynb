{
 "cells": [
  {
   "cell_type": "markdown",
   "metadata": {},
   "source": [
    "# Logistic Regression on Titanic dataset from Kaggle"
   ]
  },
  {
   "cell_type": "markdown",
   "metadata": {},
   "source": [
    "### Table of Contents\n",
    "* [The Data](#data)\n",
    "* [Logistic Regression Functions](#logisticregression)\n",
    "* [Learning Curves](#learningcurves)\n",
    "* [Feature Engineering](#featureengineering)"
   ]
  },
  {
   "cell_type": "code",
   "execution_count": 1,
   "metadata": {},
   "outputs": [
    {
     "name": "stdout",
     "output_type": "stream",
     "text": [
      "All packages imported successfully\n"
     ]
    }
   ],
   "source": [
    "# import packages\n",
    "import pandas as pd\n",
    "import numpy as np\n",
    "import matplotlib.pyplot as plt\n",
    "#import math\n",
    "print(\"All packages imported successfully\")"
   ]
  },
  {
   "cell_type": "code",
   "execution_count": 2,
   "metadata": {},
   "outputs": [],
   "source": [
    "#increase the size of the plot and set style\n",
    "plt.rcParams['figure.figsize']=(12,6)"
   ]
  },
  {
   "cell_type": "markdown",
   "metadata": {},
   "source": [
    "# Read in data <a class=\"anchor\" id=\"data\"></a>"
   ]
  },
  {
   "cell_type": "code",
   "execution_count": 3,
   "metadata": {},
   "outputs": [
    {
     "data": {
      "text/html": [
       "<div>\n",
       "<style scoped>\n",
       "    .dataframe tbody tr th:only-of-type {\n",
       "        vertical-align: middle;\n",
       "    }\n",
       "\n",
       "    .dataframe tbody tr th {\n",
       "        vertical-align: top;\n",
       "    }\n",
       "\n",
       "    .dataframe thead th {\n",
       "        text-align: right;\n",
       "    }\n",
       "</style>\n",
       "<table border=\"1\" class=\"dataframe\">\n",
       "  <thead>\n",
       "    <tr style=\"text-align: right;\">\n",
       "      <th></th>\n",
       "      <th>PassengerId</th>\n",
       "      <th>Survived</th>\n",
       "      <th>Pclass</th>\n",
       "      <th>Name</th>\n",
       "      <th>Sex</th>\n",
       "      <th>Age</th>\n",
       "      <th>SibSp</th>\n",
       "      <th>Parch</th>\n",
       "      <th>Ticket</th>\n",
       "      <th>Fare</th>\n",
       "      <th>Cabin</th>\n",
       "      <th>Embarked</th>\n",
       "    </tr>\n",
       "  </thead>\n",
       "  <tbody>\n",
       "    <tr>\n",
       "      <th>0</th>\n",
       "      <td>1</td>\n",
       "      <td>0</td>\n",
       "      <td>3</td>\n",
       "      <td>Braund, Mr. Owen Harris</td>\n",
       "      <td>male</td>\n",
       "      <td>22.0</td>\n",
       "      <td>1</td>\n",
       "      <td>0</td>\n",
       "      <td>A/5 21171</td>\n",
       "      <td>7.2500</td>\n",
       "      <td>NaN</td>\n",
       "      <td>S</td>\n",
       "    </tr>\n",
       "    <tr>\n",
       "      <th>1</th>\n",
       "      <td>2</td>\n",
       "      <td>1</td>\n",
       "      <td>1</td>\n",
       "      <td>Cumings, Mrs. John Bradley (Florence Briggs Th...</td>\n",
       "      <td>female</td>\n",
       "      <td>38.0</td>\n",
       "      <td>1</td>\n",
       "      <td>0</td>\n",
       "      <td>PC 17599</td>\n",
       "      <td>71.2833</td>\n",
       "      <td>C85</td>\n",
       "      <td>C</td>\n",
       "    </tr>\n",
       "    <tr>\n",
       "      <th>2</th>\n",
       "      <td>3</td>\n",
       "      <td>1</td>\n",
       "      <td>3</td>\n",
       "      <td>Heikkinen, Miss. Laina</td>\n",
       "      <td>female</td>\n",
       "      <td>26.0</td>\n",
       "      <td>0</td>\n",
       "      <td>0</td>\n",
       "      <td>STON/O2. 3101282</td>\n",
       "      <td>7.9250</td>\n",
       "      <td>NaN</td>\n",
       "      <td>S</td>\n",
       "    </tr>\n",
       "    <tr>\n",
       "      <th>3</th>\n",
       "      <td>4</td>\n",
       "      <td>1</td>\n",
       "      <td>1</td>\n",
       "      <td>Futrelle, Mrs. Jacques Heath (Lily May Peel)</td>\n",
       "      <td>female</td>\n",
       "      <td>35.0</td>\n",
       "      <td>1</td>\n",
       "      <td>0</td>\n",
       "      <td>113803</td>\n",
       "      <td>53.1000</td>\n",
       "      <td>C123</td>\n",
       "      <td>S</td>\n",
       "    </tr>\n",
       "    <tr>\n",
       "      <th>4</th>\n",
       "      <td>5</td>\n",
       "      <td>0</td>\n",
       "      <td>3</td>\n",
       "      <td>Allen, Mr. William Henry</td>\n",
       "      <td>male</td>\n",
       "      <td>35.0</td>\n",
       "      <td>0</td>\n",
       "      <td>0</td>\n",
       "      <td>373450</td>\n",
       "      <td>8.0500</td>\n",
       "      <td>NaN</td>\n",
       "      <td>S</td>\n",
       "    </tr>\n",
       "  </tbody>\n",
       "</table>\n",
       "</div>"
      ],
      "text/plain": [
       "   PassengerId  Survived  Pclass  \\\n",
       "0            1         0       3   \n",
       "1            2         1       1   \n",
       "2            3         1       3   \n",
       "3            4         1       1   \n",
       "4            5         0       3   \n",
       "\n",
       "                                                Name     Sex   Age  SibSp  \\\n",
       "0                            Braund, Mr. Owen Harris    male  22.0      1   \n",
       "1  Cumings, Mrs. John Bradley (Florence Briggs Th...  female  38.0      1   \n",
       "2                             Heikkinen, Miss. Laina  female  26.0      0   \n",
       "3       Futrelle, Mrs. Jacques Heath (Lily May Peel)  female  35.0      1   \n",
       "4                           Allen, Mr. William Henry    male  35.0      0   \n",
       "\n",
       "   Parch            Ticket     Fare Cabin Embarked  \n",
       "0      0         A/5 21171   7.2500   NaN        S  \n",
       "1      0          PC 17599  71.2833   C85        C  \n",
       "2      0  STON/O2. 3101282   7.9250   NaN        S  \n",
       "3      0            113803  53.1000  C123        S  \n",
       "4      0            373450   8.0500   NaN        S  "
      ]
     },
     "execution_count": 3,
     "metadata": {},
     "output_type": "execute_result"
    }
   ],
   "source": [
    "# Read in the titanic data to a pandas dataframe\n",
    "filepath = \"./data/train.csv\"\n",
    "titanic = pd.read_csv(filepath)\n",
    "titanic.head(5)"
   ]
  },
  {
   "cell_type": "code",
   "execution_count": 4,
   "metadata": {},
   "outputs": [
    {
     "data": {
      "text/plain": [
       "PassengerId    0.000000\n",
       "Survived       0.000000\n",
       "Pclass         0.000000\n",
       "Name           0.000000\n",
       "Sex            0.000000\n",
       "Age            0.198653\n",
       "SibSp          0.000000\n",
       "Parch          0.000000\n",
       "Ticket         0.000000\n",
       "Fare           0.000000\n",
       "Cabin          0.771044\n",
       "Embarked       0.002245\n",
       "dtype: float64"
      ]
     },
     "execution_count": 4,
     "metadata": {},
     "output_type": "execute_result"
    }
   ],
   "source": [
    "# How many nulls do we have?\n",
    "titanic.isna().mean()"
   ]
  },
  {
   "cell_type": "markdown",
   "metadata": {},
   "source": [
    "Age is ~20% null, and cabin is around 80% null\n",
    "\n",
    "I wont be using Cabin at first, so for now I will just drop the rows where age is missing so I can still run that column through the algorithm"
   ]
  },
  {
   "cell_type": "code",
   "execution_count": 5,
   "metadata": {},
   "outputs": [
    {
     "data": {
      "text/plain": [
       "PassengerId    0.000000\n",
       "Survived       0.000000\n",
       "Pclass         0.000000\n",
       "Name           0.000000\n",
       "Sex            0.000000\n",
       "Age            0.000000\n",
       "SibSp          0.000000\n",
       "Parch          0.000000\n",
       "Ticket         0.000000\n",
       "Fare           0.000000\n",
       "Cabin          0.740896\n",
       "Embarked       0.002801\n",
       "dtype: float64"
      ]
     },
     "execution_count": 5,
     "metadata": {},
     "output_type": "execute_result"
    }
   ],
   "source": [
    "titanic = titanic.dropna(subset=['Age'])\n",
    "titanic.isna().mean()"
   ]
  },
  {
   "cell_type": "markdown",
   "metadata": {},
   "source": [
    "Kaggle withheld some data for testing and this is located in a seperate csv file. Testing data only contains the features and I have to submit my predictions to Kaggle to score the final model."
   ]
  },
  {
   "cell_type": "code",
   "execution_count": 6,
   "metadata": {},
   "outputs": [
    {
     "data": {
      "text/html": [
       "<div>\n",
       "<style scoped>\n",
       "    .dataframe tbody tr th:only-of-type {\n",
       "        vertical-align: middle;\n",
       "    }\n",
       "\n",
       "    .dataframe tbody tr th {\n",
       "        vertical-align: top;\n",
       "    }\n",
       "\n",
       "    .dataframe thead th {\n",
       "        text-align: right;\n",
       "    }\n",
       "</style>\n",
       "<table border=\"1\" class=\"dataframe\">\n",
       "  <thead>\n",
       "    <tr style=\"text-align: right;\">\n",
       "      <th></th>\n",
       "      <th>PassengerId</th>\n",
       "      <th>Pclass</th>\n",
       "      <th>Name</th>\n",
       "      <th>Sex</th>\n",
       "      <th>Age</th>\n",
       "      <th>SibSp</th>\n",
       "      <th>Parch</th>\n",
       "      <th>Ticket</th>\n",
       "      <th>Fare</th>\n",
       "      <th>Cabin</th>\n",
       "      <th>Embarked</th>\n",
       "    </tr>\n",
       "  </thead>\n",
       "  <tbody>\n",
       "    <tr>\n",
       "      <th>273</th>\n",
       "      <td>1165</td>\n",
       "      <td>3</td>\n",
       "      <td>Lennon, Miss. Mary</td>\n",
       "      <td>female</td>\n",
       "      <td>NaN</td>\n",
       "      <td>1</td>\n",
       "      <td>0</td>\n",
       "      <td>370371</td>\n",
       "      <td>15.5000</td>\n",
       "      <td>NaN</td>\n",
       "      <td>Q</td>\n",
       "    </tr>\n",
       "    <tr>\n",
       "      <th>265</th>\n",
       "      <td>1157</td>\n",
       "      <td>3</td>\n",
       "      <td>Lyntakoff, Mr. Stanko</td>\n",
       "      <td>male</td>\n",
       "      <td>NaN</td>\n",
       "      <td>0</td>\n",
       "      <td>0</td>\n",
       "      <td>349235</td>\n",
       "      <td>7.8958</td>\n",
       "      <td>NaN</td>\n",
       "      <td>S</td>\n",
       "    </tr>\n",
       "    <tr>\n",
       "      <th>333</th>\n",
       "      <td>1225</td>\n",
       "      <td>3</td>\n",
       "      <td>Nakid, Mrs. Said (Waika Mary\" Mowad)\"</td>\n",
       "      <td>female</td>\n",
       "      <td>19.0</td>\n",
       "      <td>1</td>\n",
       "      <td>1</td>\n",
       "      <td>2653</td>\n",
       "      <td>15.7417</td>\n",
       "      <td>NaN</td>\n",
       "      <td>C</td>\n",
       "    </tr>\n",
       "    <tr>\n",
       "      <th>362</th>\n",
       "      <td>1254</td>\n",
       "      <td>2</td>\n",
       "      <td>Ware, Mrs. John James (Florence Louise Long)</td>\n",
       "      <td>female</td>\n",
       "      <td>31.0</td>\n",
       "      <td>0</td>\n",
       "      <td>0</td>\n",
       "      <td>CA 31352</td>\n",
       "      <td>21.0000</td>\n",
       "      <td>NaN</td>\n",
       "      <td>S</td>\n",
       "    </tr>\n",
       "    <tr>\n",
       "      <th>326</th>\n",
       "      <td>1218</td>\n",
       "      <td>2</td>\n",
       "      <td>Becker, Miss. Ruth Elizabeth</td>\n",
       "      <td>female</td>\n",
       "      <td>12.0</td>\n",
       "      <td>2</td>\n",
       "      <td>1</td>\n",
       "      <td>230136</td>\n",
       "      <td>39.0000</td>\n",
       "      <td>F4</td>\n",
       "      <td>S</td>\n",
       "    </tr>\n",
       "  </tbody>\n",
       "</table>\n",
       "</div>"
      ],
      "text/plain": [
       "     PassengerId  Pclass                                          Name  \\\n",
       "273         1165       3                            Lennon, Miss. Mary   \n",
       "265         1157       3                         Lyntakoff, Mr. Stanko   \n",
       "333         1225       3         Nakid, Mrs. Said (Waika Mary\" Mowad)\"   \n",
       "362         1254       2  Ware, Mrs. John James (Florence Louise Long)   \n",
       "326         1218       2                  Becker, Miss. Ruth Elizabeth   \n",
       "\n",
       "        Sex   Age  SibSp  Parch    Ticket     Fare Cabin Embarked  \n",
       "273  female   NaN      1      0    370371  15.5000   NaN        Q  \n",
       "265    male   NaN      0      0    349235   7.8958   NaN        S  \n",
       "333  female  19.0      1      1      2653  15.7417   NaN        C  \n",
       "362  female  31.0      0      0  CA 31352  21.0000   NaN        S  \n",
       "326  female  12.0      2      1    230136  39.0000    F4        S  "
      ]
     },
     "execution_count": 6,
     "metadata": {},
     "output_type": "execute_result"
    }
   ],
   "source": [
    "# Read in the titanic testing data to a pandas dataframe\n",
    "filepath = \"./data/test.csv\"\n",
    "titanicTest = pd.read_csv(filepath)\n",
    "titanicTest.sample(5)"
   ]
  },
  {
   "cell_type": "code",
   "execution_count": 7,
   "metadata": {},
   "outputs": [
    {
     "data": {
      "text/plain": [
       "0.4061624649859944"
      ]
     },
     "execution_count": 7,
     "metadata": {},
     "output_type": "execute_result"
    }
   ],
   "source": [
    "titanic.Survived.mean()"
   ]
  },
  {
   "cell_type": "markdown",
   "metadata": {},
   "source": [
    "Since ~40% surivived, I would say the data is pretty well balanced and I'm not going to worry about stratifying my train/validation split.\n",
    "\n",
    "Use 75% of the data to train, reserve 25% for validation"
   ]
  },
  {
   "cell_type": "code",
   "execution_count": 8,
   "metadata": {},
   "outputs": [],
   "source": [
    "indexToSplitOn = int(len(titanic)*.75)\n",
    "train = titanic.loc[0:indexToSplitOn]\n",
    "validate = titanic.loc[indexToSplitOn+1:]"
   ]
  },
  {
   "cell_type": "code",
   "execution_count": 9,
   "metadata": {},
   "outputs": [
    {
     "name": "stdout",
     "output_type": "stream",
     "text": [
      "Percentage of people who survived in training data: 40.24%\n",
      "Percentage of people who survived in validation data: 41.18%\n"
     ]
    }
   ],
   "source": [
    "print(\"Percentage of people who survived in training data: {:.2%}\".format(train.Survived.mean()))\n",
    "print(\"Percentage of people who survived in validation data: {:.2%}\".format(validate.Survived.mean()))"
   ]
  },
  {
   "cell_type": "markdown",
   "metadata": {},
   "source": [
    "There are pretty much an equal number of survivors in the training and validation data sets 👍"
   ]
  },
  {
   "cell_type": "code",
   "execution_count": 10,
   "metadata": {},
   "outputs": [],
   "source": [
    "# first build model on only these feature, include other features and perform feature engineering later\n",
    "initialFeatures = ['Age', 'SibSp', 'Parch', 'Fare']\n",
    "\n",
    "# Seperate the features from target variable\n",
    "x_train = train[initialFeatures]\n",
    "y_train = train.Survived\n",
    "\n",
    "x_validate = validate[initialFeatures]\n",
    "y_validate = validate.Survived"
   ]
  },
  {
   "cell_type": "markdown",
   "metadata": {},
   "source": [
    "### Normalize the features\n",
    "Note: the mean & standard deviation for feature normalization are learned parameters so best practice is to calculate these only on the training data"
   ]
  },
  {
   "cell_type": "code",
   "execution_count": 11,
   "metadata": {},
   "outputs": [],
   "source": [
    "mu = x_train.mean()\n",
    "sigma = x_train.std()\n",
    "\n",
    "x_train_norm = (x_train-mu)/sigma\n",
    "x_validate_norm = (x_validate-mu)/sigma"
   ]
  },
  {
   "cell_type": "markdown",
   "metadata": {},
   "source": [
    "### Add intercept values to feature matrix"
   ]
  },
  {
   "cell_type": "code",
   "execution_count": 12,
   "metadata": {},
   "outputs": [],
   "source": [
    "x_train_norm.insert(0,\"intercept\", 1, True)\n",
    "x_validate_norm.insert(0,\"intercept\", 1, True)"
   ]
  },
  {
   "cell_type": "markdown",
   "metadata": {},
   "source": [
    "# Logistic Regression Helper Functions <a class=\"anchor\" id=\"logisticregression\"></a>"
   ]
  },
  {
   "cell_type": "markdown",
   "metadata": {},
   "source": [
    "The hypothese function of logistic regression is: $h_{\\theta}(x) = S(\\theta^{T}x)$ where S is the sigmoid function:\n",
    "$S(z) = \\frac{1}{1+e^{-z}}$"
   ]
  },
  {
   "cell_type": "code",
   "execution_count": 13,
   "metadata": {},
   "outputs": [],
   "source": [
    "def h(X, theta):\n",
    "    '''take in a feature matrix x and parameters theta as numpy arrays and compute\n",
    "    the hypothesis values'''\n",
    "    \n",
    "    arr = sigmoid(np.dot(X,theta))\n",
    "    #print(arr)\n",
    "    arr[arr == 1] = 0.99999999999999\n",
    "    #print(arr)\n",
    "    \n",
    "    return arr"
   ]
  },
  {
   "cell_type": "code",
   "execution_count": 14,
   "metadata": {},
   "outputs": [],
   "source": [
    "def sigmoid(z):\n",
    "    '''Take in a scalar or numpy array and returns the same object\n",
    "    after performing a sigmoid transformation'''\n",
    "    \n",
    "    return 1/(1+np.exp(-z))"
   ]
  },
  {
   "cell_type": "markdown",
   "metadata": {},
   "source": [
    "For Logistic Regression, the cost function J with regularization is defined as \n",
    "$J(\\theta ) \n",
    "    = -[\\frac{1}{m} \\sum_{i=1}^m \n",
    "    (y^{(i)} log(h_\\theta (x^i)) \n",
    "    + (1 – y^{(i)}) log(1-h_\\theta (x^{(i)}))] \n",
    "+ \\frac{\\lambda}{2m}\\sum_{j=1}^{n}\\theta_{j}^{2}$"
   ]
  },
  {
   "cell_type": "code",
   "execution_count": 15,
   "metadata": {},
   "outputs": [],
   "source": [
    "# Define cost function for logistic regression\n",
    "def costFunction(X, y, theta, L):\n",
    "    '''Take in a parameter vector theta as numpy array, \n",
    "        feature matrix X as numpy array, \n",
    "        target vector y as numpy array,\n",
    "        and regularization term lambda and return the cost''' \n",
    "    \n",
    "    m = len(y)\n",
    "\n",
    "    #Since the cost function is so long, I broke it into part, second, and regularization parts\n",
    "    firstPart = np.dot(-y.T, np.log(h(X, theta)))\n",
    "    \n",
    "    #print(f\"firstPart: {firstPart}\")\n",
    "\n",
    "    secondPart = np.dot(1-y.T, np.log(1-h(X, theta)))\n",
    "    \n",
    "    #print(f\"secondPart: {secondPart}\")\n",
    "\n",
    "    regulizationTerm = L/(2*m) * np.sum(np.square(theta[1:]))\n",
    "    #print(f\"regulizationTerm: {regulizationTerm}\")\n",
    "    \n",
    "    J = 1/m * (firstPart - secondPart) + regulizationTerm\n",
    "    \n",
    "    return J.flatten()"
   ]
  },
  {
   "cell_type": "markdown",
   "metadata": {},
   "source": [
    "The gradient of the cost function J is $\\frac{dJ(\\theta)}{d\\theta} = \\frac{1}{m} \\sum_{i=1}^{m}(h_\\theta(x_i)-y_i) x_i + \\frac{\\lambda}{m}\\theta$, however do not use regularization on the intercept parameter"
   ]
  },
  {
   "cell_type": "code",
   "execution_count": 16,
   "metadata": {},
   "outputs": [],
   "source": [
    "def gradient(X, y, theta, L):\n",
    "    '''Take in a parameter vector theta as numpy array, \n",
    "        feature matrix X as numpy array, \n",
    "        target vector y as numpy array,\n",
    "        and regularization term lambda \n",
    "        and return the gradient'''\n",
    "    m = len(y) #number of training examples\n",
    "\n",
    "    grad = np.zeros(len(theta))\n",
    "    grad[0] = 1/m*np.dot((h(X, theta)-y).T, X).T[0]\n",
    "    grad[1:] = (1/m*np.dot((h(X, theta)-y).T, X).T + L/m*theta)[1:]\n",
    "    \n",
    "    return grad"
   ]
  },
  {
   "cell_type": "markdown",
   "metadata": {},
   "source": [
    "\n",
    "Goal of gradient descent is to minimize cost J. Here is the algorithm:\n",
    "\n",
    "Repeat $\\theta_j:=\\theta_j-\\alpha\\frac{\\delta}{\\delta \\theta_j}J(\\theta)$ for a defined number of iterations"
   ]
  },
  {
   "cell_type": "code",
   "execution_count": 17,
   "metadata": {},
   "outputs": [],
   "source": [
    "# define gradient descent function\n",
    "def gradientDescent(X, y, theta, L, a, s=10000):\n",
    "    '''Take in a feature matrix X, target vector y, \n",
    "    parameters theta, learing rate alpha, and regularization \n",
    "    parameter lambda, and return the tuned parameters \n",
    "    theta, cost values J, and minimized cost value J\n",
    "    '''\n",
    "    \n",
    "    m = len(y) #number of training examples\n",
    "    \n",
    "    J_history = pd.DataFrame(columns=['J']) #empty dataframe we will append costs to\n",
    "\n",
    "\n",
    "    for i in range(s):\n",
    "        # Perform a single gradient step on the parameter vector theta\n",
    "        theta = theta - a * gradient(X, y, theta, L)   \n",
    "        \n",
    "        #calculate cost J with new parameters theta and append to J_history\n",
    "        J = costFunction(X, y, theta, L)\n",
    "        J_history = J_history.append({'J': J}, ignore_index=True)\n",
    "        \n",
    "        # if there is not signifcant improvement of the cost function then break the loop\n",
    "        if abs(J_history.J.tail(2).diff().iloc[-1]) < 10e-6:\n",
    "            break\n",
    "        \n",
    "    return [theta, J_history, J]"
   ]
  },
  {
   "cell_type": "code",
   "execution_count": 18,
   "metadata": {},
   "outputs": [],
   "source": [
    "theta_tuned, J_history, J = gradientDescent(X=x_train_norm.to_numpy(), \n",
    "                                      y=y_train.to_numpy(), \n",
    "                                      theta=np.array([10,10,10,10,10]),\n",
    "                                      L=5, a=4)"
   ]
  },
  {
   "cell_type": "code",
   "execution_count": 19,
   "metadata": {},
   "outputs": [
    {
     "data": {
      "image/png": "[encoded data removed]",
      "text/plain": [
       "<Figure size 864x432 with 1 Axes>"
      ]
     },
     "metadata": {
      "needs_background": "light"
     },
     "output_type": "display_data"
    }
   ],
   "source": [
    "plt.plot(J_history)\n",
    "plt.xlabel('Iteration of gradient descent')\n",
    "plt.ylabel('Cost (J)')\n",
    "plt.title('Cost improvement from gradient descent')\n",
    "plt.show()"
   ]
  },
  {
   "cell_type": "code",
   "execution_count": 20,
   "metadata": {},
   "outputs": [
    {
     "data": {
      "text/plain": [
       "array([-0.39579164, -0.3183789 , -0.31346063,  0.13778799,  0.54629817])"
      ]
     },
     "execution_count": 20,
     "metadata": {},
     "output_type": "execute_result"
    }
   ],
   "source": [
    "theta_tuned"
   ]
  },
  {
   "cell_type": "markdown",
   "metadata": {},
   "source": [
    "# Learning Curves <a class=\"anchor\" id=\"learningcurves\"></a>"
   ]
  },
  {
   "cell_type": "code",
   "execution_count": 21,
   "metadata": {},
   "outputs": [],
   "source": [
    "# Choose some value for the learning rate alpha \n",
    "alpha = 2\n",
    "\n",
    "# Choose some value for the regularization parameter lambda\n",
    "# recall, high lambda results in simple hypothesis which is less prone to overfitting\n",
    "lambd = 2\n",
    "\n",
    "# Ititialize parameter vector theta\n",
    "theta_init = np.array([-0.39579164, -0.3183789 , -0.31346063,  0.13778799,  0.54629817])\n",
    "\n",
    "# Convert pandas dataframes to numpy arrays \n",
    "x = x_train_norm.to_numpy()\n",
    "y = y_train.to_numpy()\n",
    "\n",
    "x_cv = x_validate_norm.to_numpy()\n",
    "y_cv = y_validate.to_numpy()\n",
    "\n",
    "optimizationLearningCurves = pd.DataFrame(columns=['Training Error', 'Validation Error'])\n",
    "performanceLearningCurves = pd.DataFrame(columns=['Training Accuracy', 'Validation Accuracy'])\n",
    "\n",
    "for i in range(3, len(x), 5):\n",
    "    #print(i, end=', ')\n",
    "    \n",
    "    #Limit training set to only i observations\n",
    "    xLC = x[0:i]\n",
    "    yLC = y[0:i]\n",
    "\n",
    "    tuned_theta, jhist, JTrain = gradientDescent(xLC, yLC, theta_init, lambd, alpha)\n",
    "\n",
    "    #Use tuned parameters to calculate cost of cross validation data\n",
    "    JValidation = costFunction(x_cv, y_cv, tuned_theta, lambd)\n",
    "    \n",
    "    #Store J-Train and J-Cross-Validation\n",
    "    optimizationLearningCurves = optimizationLearningCurves.append(\n",
    "        {'Training Error':JTrain,'Validation Error':JValidation},ignore_index=True)\n",
    "    \n",
    "    #Store prediction accuracy scores\n",
    "    trainingScore = ((h(xLC, tuned_theta)>.5).astype(int)==yLC).mean()\n",
    "    validationScore = ((h(x_cv, tuned_theta)>.5).astype(int)==y_cv).mean()\n",
    "    performanceLearningCurves = performanceLearningCurves.append(\n",
    "        {'Training Accuracy':trainingScore,'Validation Accuracy':validationScore},ignore_index=True)"
   ]
  },
  {
   "cell_type": "markdown",
   "metadata": {},
   "source": [
    "## Optimization Learning Curves"
   ]
  },
  {
   "cell_type": "code",
   "execution_count": 22,
   "metadata": {},
   "outputs": [
    {
     "data": {
      "image/png": "[encoded data removed]",
      "text/plain": [
       "<Figure size 864x432 with 1 Axes>"
      ]
     },
     "metadata": {
      "needs_background": "light"
     },
     "output_type": "display_data"
    }
   ],
   "source": [
    "plt.plot(optimizationLearningCurves)\n",
    "plt.xlabel('Training set size')\n",
    "plt.ylabel('Error')\n",
    "plt.title('Optimization Learning Curves')\n",
    "plt.legend(['Training Error', 'Testing Error'])\n",
    "plt.show()"
   ]
  },
  {
   "cell_type": "markdown",
   "metadata": {},
   "source": [
    "## Performance Learning Curves"
   ]
  },
  {
   "cell_type": "code",
   "execution_count": 23,
   "metadata": {},
   "outputs": [
    {
     "data": {
      "image/png": "[encoded data removed]",
      "text/plain": [
       "<Figure size 864x432 with 1 Axes>"
      ]
     },
     "metadata": {
      "needs_background": "light"
     },
     "output_type": "display_data"
    }
   ],
   "source": [
    "plt.plot(performanceLearningCurves)\n",
    "plt.xlabel('Training set size')\n",
    "plt.ylabel('Accuracy')\n",
    "plt.title('Performance Learning Curves')\n",
    "plt.legend(['Training Accuracy', 'Testing Accuracy'])\n",
    "plt.show()"
   ]
  },
  {
   "cell_type": "code",
   "execution_count": 24,
   "metadata": {},
   "outputs": [
    {
     "name": "stdout",
     "output_type": "stream",
     "text": [
      "Current accuracy: 69.9%\n"
     ]
    }
   ],
   "source": [
    "score = ((h(x_cv, tuned_theta)>.5).astype(int)==y_cv).mean()\n",
    "print('Current accuracy: {:.1%}'.format(score))"
   ]
  },
  {
   "cell_type": "markdown",
   "metadata": {},
   "source": [
    "# Feature Engineering <a class=\"anchor\" id=\"featureengineering\"></a>"
   ]
  },
  {
   "cell_type": "markdown",
   "metadata": {},
   "source": [
    "## String values\n",
    "* Feature engineering (eg. replace the values with frequency)\n",
    "* create dummy columns (this is good when you have a small number of unique values in the column\n",
    "    *note: need to use drop.first=true so you dont have multicollinearity\n",
    "* TFIDF"
   ]
  },
  {
   "cell_type": "markdown",
   "metadata": {},
   "source": [
    "## Outliers\n",
    "* Kinds of outliers\n",
    "    * Point outliers (scatter plot)\n",
    "    * contexual outliers (time series data)\n",
    "    * collective outliers (missings data)\n",
    "* Locating outliers\n",
    "    * Box & Whisker Plot\n",
    "    * fit exponential smoothing model, large errors are possible errors"
   ]
  },
  {
   "cell_type": "markdown",
   "metadata": {},
   "source": [
    "## Missing values\n",
    "* Discard rows with missing values\n",
    "* Use categorical [0/1] variable to indicate missing data\n",
    "* Estimate missing values (rule of thumb: do this for no more than 5% per feature)\n",
    "    * impute with midrange value (mean, median, mode- for categorical)\n",
    "    * Impute missing values with an algorithm using all other factors \n",
    "* build totally seperate models \n",
    "    * one for data with no missing values, one for data with missing values"
   ]
  },
  {
   "cell_type": "markdown",
   "metadata": {},
   "source": [
    "## Feature Selection\n",
    "* Manual selection\n",
    "* Greedy methods (does what is best for right now)\n",
    "    * Forward selection (start with no values, add best new feature)\n",
    "    * Backward elimination (start with all factors, eliminate one at a time)\n",
    "    * Stepwise regression (combination for forward and backward elimination)\n",
    "    * Makes decision based on p-value (you choose the threshold) given by t-test: hypothesis is that the model is improved by adding(subtracting) the feature\n",
    "* Newer methods (Globally optimized)\n",
    "    * Lasso regression\n",
    "    * Elastic Net\n",
    "    * Difference between these is the regulatization term being with l1 or l2"
   ]
  },
  {
   "cell_type": "code",
   "execution_count": null,
   "metadata": {},
   "outputs": [],
   "source": []
  },
  {
   "cell_type": "markdown",
   "metadata": {},
   "source": [
    "# Get predictions for test data \n",
    "Don't forget to ...\n",
    "* normalize features with mu, sigma from training data\n",
    "* add intercept term\n"
   ]
  },
  {
   "cell_type": "code",
   "execution_count": null,
   "metadata": {},
   "outputs": [],
   "source": []
  }
 ],
 "metadata": {
  "kernelspec": {
   "display_name": "ENVNAME",
   "language": "python",
   "name": "envname"
  },
  "language_info": {
   "codemirror_mode": {
    "name": "ipython",
    "version": 3
   },
   "file_extension": ".py",
   "mimetype": "text/x-python",
   "name": "python",
   "nbconvert_exporter": "python",
   "pygments_lexer": "ipython3",
   "version": "3.7.2"
  }
 },
 "nbformat": 4,
 "nbformat_minor": 4
}
